{
 "cells": [
  {
   "cell_type": "markdown",
   "metadata": {
    "collapsed": true
   },
   "source": [
    "# Image Classification\n",
    "In this project, you'll classify images from the [CIFAR-10 dataset](https://www.cs.toronto.edu/~kriz/cifar.html).  The dataset consists of airplanes, dogs, cats, and other objects. You'll preprocess the images, then train a convolutional neural network on all the samples. The images need to be normalized and the labels need to be one-hot encoded.  You'll get to apply what you learned and build a convolutional, max pooling, dropout, and fully connected layers.  At the end, you'll get to see your neural network's predictions on the sample images.\n",
    "## Get the Data\n",
    "Run the following cell to download the [CIFAR-10 dataset for python](https://www.cs.toronto.edu/~kriz/cifar-10-python.tar.gz)."
   ]
  },
  {
   "cell_type": "code",
   "execution_count": 1,
   "metadata": {
    "collapsed": false
   },
   "outputs": [
    {
     "name": "stdout",
     "output_type": "stream",
     "text": [
      "All files found!\n"
     ]
    }
   ],
   "source": [
    "\"\"\"\n",
    "DON'T MODIFY ANYTHING IN THIS CELL THAT IS BELOW THIS LINE\n",
    "\"\"\"\n",
    "from urllib.request import urlretrieve\n",
    "from os.path import isfile, isdir\n",
    "from tqdm import tqdm\n",
    "import problem_unittests as tests\n",
    "import tarfile\n",
    "\n",
    "cifar10_dataset_folder_path = 'cifar-10-batches-py'\n",
    "\n",
    "class DLProgress(tqdm):\n",
    "    last_block = 0\n",
    "\n",
    "    def hook(self, block_num=1, block_size=1, total_size=None):\n",
    "        self.total = total_size\n",
    "        self.update((block_num - self.last_block) * block_size)\n",
    "        self.last_block = block_num\n",
    "\n",
    "if not isfile('cifar-10-python.tar.gz'):\n",
    "    with DLProgress(unit='B', unit_scale=True, miniters=1, desc='CIFAR-10 Dataset') as pbar:\n",
    "        urlretrieve(\n",
    "            'https://www.cs.toronto.edu/~kriz/cifar-10-python.tar.gz',\n",
    "            'cifar-10-python.tar.gz',\n",
    "            pbar.hook)\n",
    "\n",
    "if not isdir(cifar10_dataset_folder_path):\n",
    "    with tarfile.open('cifar-10-python.tar.gz') as tar:\n",
    "        tar.extractall()\n",
    "        tar.close()\n",
    "\n",
    "\n",
    "tests.test_folder_path(cifar10_dataset_folder_path)"
   ]
  },
  {
   "cell_type": "markdown",
   "metadata": {},
   "source": [
    "## Explore the Data\n",
    "The dataset is broken into batches to prevent your machine from running out of memory.  The CIFAR-10 dataset consists of 5 batches, named `data_batch_1`, `data_batch_2`, etc.. Each batch contains the labels and images that are one of the following:\n",
    "* airplane\n",
    "* automobile\n",
    "* bird\n",
    "* cat\n",
    "* deer\n",
    "* dog\n",
    "* frog\n",
    "* horse\n",
    "* ship\n",
    "* truck\n",
    "\n",
    "Understanding a dataset is part of making predictions on the data.  Play around with the code cell below by changing the `batch_id` and `sample_id`. The `batch_id` is the id for a batch (1-5). The `sample_id` is the id for a image and label pair in the batch.\n",
    "\n",
    "Ask yourself \"What are all possible labels?\", \"What is the range of values for the image data?\", \"Are the labels in order or random?\".  Answers to questions like these will help you preprocess the data and end up with better predictions."
   ]
  },
  {
   "cell_type": "code",
   "execution_count": 2,
   "metadata": {
    "collapsed": false
   },
   "outputs": [
    {
     "name": "stdout",
     "output_type": "stream",
     "text": [
      "\n",
      "Stats of batch 1:\n",
      "Samples: 10000\n",
      "Label Counts: {0: 1005, 1: 974, 2: 1032, 3: 1016, 4: 999, 5: 937, 6: 1030, 7: 1001, 8: 1025, 9: 981}\n",
      "First 20 Labels: [6, 9, 9, 4, 1, 1, 2, 7, 8, 3, 4, 7, 7, 2, 9, 9, 9, 3, 2, 6]\n",
      "\n",
      "Example of Image 5:\n",
      "Image - Min Value: 0 Max Value: 252\n",
      "Image - Shape: (32, 32, 3)\n",
      "Label - Label Id: 1 Name: automobile\n"
     ]
    },
    {
     "data": {
      "image/png": "[encoded data removed]",
      "text/plain": [
       "<matplotlib.figure.Figure at 0x13b5b9c1b38>"
      ]
     },
     "metadata": {
      "image/png": {
       "height": 250,
       "width": 253
      }
     },
     "output_type": "display_data"
    }
   ],
   "source": [
    "%matplotlib inline\n",
    "%config InlineBackend.figure_format = 'retina'\n",
    "\n",
    "import helper\n",
    "import numpy as np\n",
    "\n",
    "# Explore the dataset\n",
    "\n",
    "batch_id = 1\n",
    "sample_id = 5\n",
    "helper.display_stats(cifar10_dataset_folder_path, batch_id, sample_id)"
   ]
  },
  {
   "cell_type": "markdown",
   "metadata": {},
   "source": [
    "## Implement Preprocess Functions\n",
    "### Normalize\n",
    "In the cell below, implement the `normalize` function to take in image data, `x`, and return it as a normalized Numpy array. The values should be in the range of 0 to 1, inclusive.  The return object should be the same shape as `x`."
   ]
  },
  {
   "cell_type": "code",
   "execution_count": 3,
   "metadata": {
    "collapsed": false
   },
   "outputs": [
    {
     "name": "stdout",
     "output_type": "stream",
     "text": [
      "Tests Passed\n"
     ]
    }
   ],
   "source": [
    "def normalize(x):\n",
    "    \"\"\"\n",
    "    Normalize a list of sample image data in the range of 0 to 1\n",
    "    : x: List of image data.  The image shape is (32, 32, 3)\n",
    "    : return: Numpy array of normalize data\n",
    "    \"\"\"\n",
    "    # TODO: Implement Function\n",
    "    return np.asfarray(x/255, dtype=np.float32)\n",
    "\n",
    "\n",
    "\"\"\"\n",
    "DON'T MODIFY ANYTHING IN THIS CELL THAT IS BELOW THIS LINE\n",
    "\"\"\"\n",
    "tests.test_normalize(normalize)"
   ]
  },
  {
   "cell_type": "markdown",
   "metadata": {},
   "source": [
    "### One-hot encode\n",
    "Just like the previous code cell, you'll be implementing a function for preprocessing.  This time, you'll implement the `one_hot_encode` function. The input, `x`, are a list of labels.  Implement the function to return the list of labels as One-Hot encoded Numpy array.  The possible values for labels are 0 to 9. The one-hot encoding function should return the same encoding for each value between each call to `one_hot_encode`.  Make sure to save the map of encodings outside the function.\n",
    "\n",
    "Hint: Don't reinvent the wheel."
   ]
  },
  {
   "cell_type": "code",
   "execution_count": 4,
   "metadata": {
    "collapsed": false
   },
   "outputs": [
    {
     "name": "stdout",
     "output_type": "stream",
     "text": [
      "Tests Passed\n"
     ]
    }
   ],
   "source": [
    "def one_hot_encode(x, depth=10):\n",
    "    \"\"\"\n",
    "    One hot encode a list of sample labels. Return a one-hot encoded vector for each label.\n",
    "    : x: List of sample Labels\n",
    "    : return: Numpy array of one-hot encoded labels\n",
    "    \"\"\"\n",
    "    # TODO: Implement Function\n",
    "    one_hot = np.zeros((np.shape(x)[0], depth))\n",
    "    one_hot[np.arange(np.shape(x)[0]), x] = 1\n",
    "    \n",
    "    return one_hot\n",
    "\n",
    "\"\"\"\n",
    "DON'T MODIFY ANYTHING IN THIS CELL THAT IS BELOW THIS LINE\n",
    "\"\"\"\n",
    "tests.test_one_hot_encode(one_hot_encode)"
   ]
  },
  {
   "cell_type": "markdown",
   "metadata": {},
   "source": [
    "### Randomize Data\n",
    "As you saw from exploring the data above, the order of the samples are randomized.  It doesn't hurt to randomize it again, but you don't need to for this dataset."
   ]
  },
  {
   "cell_type": "markdown",
   "metadata": {},
   "source": [
    "## Preprocess all the data and save it\n",
    "Running the code cell below will preprocess all the CIFAR-10 data and save it to file. The code below also uses 10% of the training data for validation."
   ]
  },
  {
   "cell_type": "code",
   "execution_count": 5,
   "metadata": {
    "collapsed": false
   },
   "outputs": [],
   "source": [
    "\"\"\"\n",
    "DON'T MODIFY ANYTHING IN THIS CELL\n",
    "\"\"\"\n",
    "# Preprocess Training, Validation, and Testing Data\n",
    "helper.preprocess_and_save_data(cifar10_dataset_folder_path, normalize, one_hot_encode)"
   ]
  },
  {
   "cell_type": "markdown",
   "metadata": {},
   "source": [
    "# Check Point\n",
    "This is your first checkpoint.  If you ever decide to come back to this notebook or have to restart the notebook, you can start from here.  The preprocessed data has been saved to disk."
   ]
  },
  {
   "cell_type": "code",
   "execution_count": 6,
   "metadata": {
    "collapsed": true
   },
   "outputs": [],
   "source": [
    "\"\"\"\n",
    "DON'T MODIFY ANYTHING IN THIS CELL\n",
    "\"\"\"\n",
    "import pickle\n",
    "import problem_unittests as tests\n",
    "import helper\n",
    "\n",
    "# Load the Preprocessed Validation data\n",
    "valid_features, valid_labels = pickle.load(open('preprocess_validation.p', mode='rb'))"
   ]
  },
  {
   "cell_type": "markdown",
   "metadata": {},
   "source": [
    "## Build the network\n",
    "For the neural network, you'll build each layer into a function.  Most of the code you've seen has been outside of functions. To test your code more thoroughly, we require that you put each layer in a function.  This allows us to give you better feedback and test for simple mistakes using our unittests before you submit your project.\n",
    "\n",
    ">**Note:** If you're finding it hard to dedicate enough time for this course each week, we've provided a small shortcut to this part of the project. In the next couple of problems, you'll have the option to use classes from the [TensorFlow Layers](https://www.tensorflow.org/api_docs/python/tf/layers) or [TensorFlow Layers (contrib)](https://www.tensorflow.org/api_guides/python/contrib.layers) packages to build each layer, except the layers you build in the \"Convolutional and Max Pooling Layer\" section.  TF Layers is similar to Keras's and TFLearn's abstraction to layers, so it's easy to pickup.\n",
    "\n",
    ">However, if you would like to get the most out of this course, try to solve all the problems _without_ using anything from the TF Layers packages. You **can** still use classes from other packages that happen to have the same name as ones you find in TF Layers! For example, instead of using the TF Layers version of the `conv2d` class, [tf.layers.conv2d](https://www.tensorflow.org/api_docs/python/tf/layers/conv2d), you would want to use the TF Neural Network version of `conv2d`, [tf.nn.conv2d](https://www.tensorflow.org/api_docs/python/tf/nn/conv2d). \n",
    "\n",
    "Let's begin!\n",
    "\n",
    "### Input\n",
    "The neural network needs to read the image data, one-hot encoded labels, and dropout keep probability. Implement the following functions\n",
    "* Implement `neural_net_image_input`\n",
    " * Return a [TF Placeholder](https://www.tensorflow.org/api_docs/python/tf/placeholder)\n",
    " * Set the shape using `image_shape` with batch size set to `None`.\n",
    " * Name the TensorFlow placeholder \"x\" using the TensorFlow `name` parameter in the [TF Placeholder](https://www.tensorflow.org/api_docs/python/tf/placeholder).\n",
    "* Implement `neural_net_label_input`\n",
    " * Return a [TF Placeholder](https://www.tensorflow.org/api_docs/python/tf/placeholder)\n",
    " * Set the shape using `n_classes` with batch size set to `None`.\n",
    " * Name the TensorFlow placeholder \"y\" using the TensorFlow `name` parameter in the [TF Placeholder](https://www.tensorflow.org/api_docs/python/tf/placeholder).\n",
    "* Implement `neural_net_keep_prob_input`\n",
    " * Return a [TF Placeholder](https://www.tensorflow.org/api_docs/python/tf/placeholder) for dropout keep probability.\n",
    " * Name the TensorFlow placeholder \"keep_prob\" using the TensorFlow `name` parameter in the [TF Placeholder](https://www.tensorflow.org/api_docs/python/tf/placeholder).\n",
    "\n",
    "These names will be used at the end of the project to load your saved model.\n",
    "\n",
    "Note: `None` for shapes in TensorFlow allow for a dynamic size."
   ]
  },
  {
   "cell_type": "code",
   "execution_count": 7,
   "metadata": {
    "collapsed": false
   },
   "outputs": [
    {
     "name": "stdout",
     "output_type": "stream",
     "text": [
      "Image Input Tests Passed.\n",
      "Label Input Tests Passed.\n",
      "Keep Prob Tests Passed.\n"
     ]
    }
   ],
   "source": [
    "import tensorflow as tf\n",
    "\n",
    "def neural_net_image_input(image_shape):\n",
    "    \"\"\"\n",
    "    Return a Tensor for a bach of image input\n",
    "    : image_shape: Shape of the images\n",
    "    : return: Tensor for image input.\n",
    "    \"\"\"\n",
    "    # TODO: Implement Function\n",
    "    shape = (None,) + image_shape\n",
    "    x = tf.placeholder(tf.float32, shape, name='x')\n",
    "    return x\n",
    "\n",
    "\n",
    "def neural_net_label_input(n_classes):\n",
    "    \"\"\"\n",
    "    Return a Tensor for a batch of label input\n",
    "    : n_classes: Number of classes\n",
    "    : return: Tensor for label input.\n",
    "    \"\"\"\n",
    "    # TODO: Implement Function\n",
    "    y = tf.placeholder(tf.int32, (None, n_classes), name='y')\n",
    "    return y\n",
    "\n",
    "\n",
    "def neural_net_keep_prob_input():\n",
    "    \"\"\"\n",
    "    Return a Tensor for keep probability\n",
    "    : return: Tensor for keep probability.\n",
    "    \"\"\"\n",
    "    # TODO: Implement Function\n",
    "    keep_prob = tf.placeholder(tf.float32, name='keep_prob')\n",
    "    return keep_prob\n",
    "\n",
    "\n",
    "\"\"\"\n",
    "DON'T MODIFY ANYTHING IN THIS CELL THAT IS BELOW THIS LINE\n",
    "\"\"\"\n",
    "tf.reset_default_graph()\n",
    "tests.test_nn_image_inputs(neural_net_image_input)\n",
    "tests.test_nn_label_inputs(neural_net_label_input)\n",
    "tests.test_nn_keep_prob_inputs(neural_net_keep_prob_input)"
   ]
  },
  {
   "cell_type": "markdown",
   "metadata": {},
   "source": [
    "### Convolution and Max Pooling Layer\n",
    "Convolution layers have a lot of success with images. For this code cell, you should implement the function `conv2d_maxpool` to apply convolution then max pooling:\n",
    "* Create the weight and bias using `conv_ksize`, `conv_num_outputs` and the shape of `x_tensor`.\n",
    "* Apply a convolution to `x_tensor` using weight and `conv_strides`.\n",
    " * We recommend you use same padding, but you're welcome to use any padding.\n",
    "* Add bias\n",
    "* Add a nonlinear activation to the convolution.\n",
    "* Apply Max Pooling using `pool_ksize` and `pool_strides`.\n",
    " * We recommend you use same padding, but you're welcome to use any padding.\n",
    "\n",
    "**Note:** You **can't** use [TensorFlow Layers](https://www.tensorflow.org/api_docs/python/tf/layers) or [TensorFlow Layers (contrib)](https://www.tensorflow.org/api_guides/python/contrib.layers) for **this** layer, but you can still use TensorFlow's [Neural Network](https://www.tensorflow.org/api_docs/python/tf/nn) package. You may still use the shortcut option for all the **other** layers."
   ]
  },
  {
   "cell_type": "code",
   "execution_count": 8,
   "metadata": {
    "collapsed": false
   },
   "outputs": [
    {
     "name": "stdout",
     "output_type": "stream",
     "text": [
      "Tests Passed\n"
     ]
    }
   ],
   "source": [
    "def conv2d_maxpool(x_tensor, conv_num_outputs, conv_ksize, conv_strides, pool_ksize, pool_strides):\n",
    "    \"\"\"\n",
    "    Apply convolution then max pooling to x_tensor\n",
    "    :param x_tensor: TensorFlow Tensor\n",
    "    :param conv_num_outputs: Number of outputs for the convolutional layer\n",
    "    :param conv_ksize: kernal size 2-D Tuple for the convolutional layer\n",
    "    :param conv_strides: Stride 2-D Tuple for convolution\n",
    "    :param pool_ksize: kernal size 2-D Tuple for pool\n",
    "    :param pool_strides: Stride 2-D Tuple for pool\n",
    "    : return: A tensor that represents convolution and max pooling of x_tensor\n",
    "    \"\"\"\n",
    "    # TODO: Implement Function\n",
    "    mean = 0\n",
    "    mu = 0.1\n",
    "    input_count = x_tensor.get_shape().as_list()[3]\n",
    "\n",
    "    # create random weights and biases\n",
    "    shape = [conv_ksize[0], conv_ksize[1], input_count, conv_num_outputs]\n",
    "    w = tf.Variable(tf.truncated_normal(shape, mean=mean, stddev=mu), name='W')\n",
    "    b = tf.Variable(tf.constant(0.1, shape=[conv_num_outputs]), name='B')\n",
    "    \n",
    "    # perform a convolution layer on the x_tensor using strides conv_strides\n",
    "    stride = [1, conv_strides[0], conv_strides[1], 1]\n",
    "    conv = tf.nn.conv2d(x_tensor, w, strides=stride, padding='SAME')\n",
    "    conv = tf.nn.bias_add(conv, b)\n",
    "    \n",
    "    # activate the convolution layer using size pool_ksize, stride pool_strides\n",
    "    relu = tf.nn.relu(conv, name='conv_relu')\n",
    "    \n",
    "    # Maxpool the relu layer using size = pool_ksize, stride = pool_strides\n",
    "    ksize = [1, pool_ksize[0], pool_ksize[1], 1]\n",
    "    strides = [1, pool_strides[0], pool_strides[1], 1]\n",
    "    max_pool = tf.nn.max_pool(relu, ksize, strides, padding='SAME', \\\n",
    "                              name='max_pool')\n",
    "    return max_pool \n",
    "\n",
    "\n",
    "\"\"\"\n",
    "DON'T MODIFY ANYTHING IN THIS CELL THAT IS BELOW THIS LINE\n",
    "\"\"\"\n",
    "tests.test_con_pool(conv2d_maxpool)"
   ]
  },
  {
   "cell_type": "markdown",
   "metadata": {},
   "source": [
    "### Flatten Layer\n",
    "Implement the `flatten` function to change the dimension of `x_tensor` from a 4-D tensor to a 2-D tensor.  The output should be the shape (*Batch Size*, *Flattened Image Size*). Shortcut option: you can use classes from the [TensorFlow Layers](https://www.tensorflow.org/api_docs/python/tf/layers) or [TensorFlow Layers (contrib)](https://www.tensorflow.org/api_guides/python/contrib.layers) packages for this layer. For more of a challenge, only use other TensorFlow packages."
   ]
  },
  {
   "cell_type": "code",
   "execution_count": 9,
   "metadata": {
    "collapsed": false
   },
   "outputs": [
    {
     "name": "stdout",
     "output_type": "stream",
     "text": [
      "Tests Passed\n"
     ]
    }
   ],
   "source": [
    "def flatten(x_tensor):\n",
    "    \"\"\"\n",
    "    Flatten x_tensor to (Batch Size, Flattened Image Size)\n",
    "    : x_tensor: A tensor of size (Batch Size, ...), where ... are the image dimensions.\n",
    "    : return: A tensor of size (Batch Size, Flattened Image Size).\n",
    "    \"\"\"\n",
    "    # TODO: Implement Function\n",
    "    # flatten tensor using Tensorflow\n",
    "    return tf.contrib.layers.flatten(x_tensor)\n",
    "\n",
    "\n",
    "\"\"\"\n",
    "DON'T MODIFY ANYTHING IN THIS CELL THAT IS BELOW THIS LINE\n",
    "\"\"\"\n",
    "tests.test_flatten(flatten)"
   ]
  },
  {
   "cell_type": "markdown",
   "metadata": {},
   "source": [
    "### Fully-Connected Layer\n",
    "Implement the `fully_conn` function to apply a fully connected layer to `x_tensor` with the shape (*Batch Size*, *num_outputs*). Shortcut option: you can use classes from the [TensorFlow Layers](https://www.tensorflow.org/api_docs/python/tf/layers) or [TensorFlow Layers (contrib)](https://www.tensorflow.org/api_guides/python/contrib.layers) packages for this layer. For more of a challenge, only use other TensorFlow packages."
   ]
  },
  {
   "cell_type": "code",
   "execution_count": 10,
   "metadata": {
    "collapsed": false
   },
   "outputs": [
    {
     "name": "stdout",
     "output_type": "stream",
     "text": [
      "Tests Passed\n"
     ]
    }
   ],
   "source": [
    "def fully_conn(x_tensor, num_outputs):\n",
    "    \"\"\"\n",
    "    Apply a fully connected layer to x_tensor using weight and bias\n",
    "    : x_tensor: A 2-D tensor where the first dimension is batch size.\n",
    "    : num_outputs: The number of output that the new tensor should be.\n",
    "    : return: A 2-D tensor where the second dimension is num_outputs.\n",
    "    \"\"\"\n",
    "    # TODO: Implement Function\n",
    "    mean = 0\n",
    "    mu = 0.1\n",
    "    \n",
    "    # create random weights and biases\n",
    "    shape =[x_tensor.get_shape().as_list()[1], num_outputs]\n",
    "    w = tf.Variable(tf.truncated_normal(shape, mean=mean, stddev=mu), name='WF')\n",
    "    b = tf.Variable(tf.constant(0.1, shape=[num_outputs]), name='BF')\n",
    "    \n",
    "    # activate the output of the neural network\n",
    "    return tf.nn.relu(tf.add(tf.matmul(x_tensor, w), b))\n",
    "\n",
    "\n",
    "\"\"\"\n",
    "DON'T MODIFY ANYTHING IN THIS CELL THAT IS BELOW THIS LINE\n",
    "\"\"\"\n",
    "tests.test_fully_conn(fully_conn)"
   ]
  },
  {
   "cell_type": "markdown",
   "metadata": {},
   "source": [
    "### Output Layer\n",
    "Implement the `output` function to apply a fully connected layer to `x_tensor` with the shape (*Batch Size*, *num_outputs*). Shortcut option: you can use classes from the [TensorFlow Layers](https://www.tensorflow.org/api_docs/python/tf/layers) or [TensorFlow Layers (contrib)](https://www.tensorflow.org/api_guides/python/contrib.layers) packages for this layer. For more of a challenge, only use other TensorFlow packages.\n",
    "\n",
    "**Note:** Activation, softmax, or cross entropy should **not** be applied to this."
   ]
  },
  {
   "cell_type": "code",
   "execution_count": 11,
   "metadata": {
    "collapsed": false
   },
   "outputs": [
    {
     "name": "stdout",
     "output_type": "stream",
     "text": [
      "Tests Passed\n"
     ]
    }
   ],
   "source": [
    "def output(x_tensor, num_outputs):\n",
    "    \"\"\"\n",
    "    Apply a output layer to x_tensor using weight and bias\n",
    "    : x_tensor: A 2-D tensor where the first dimension is batch size.\n",
    "    : num_outputs: The number of output that the new tensor should be.\n",
    "    : return: A 2-D tensor where the second dimension is num_outputs.\n",
    "    \"\"\"\n",
    "    # TODO: Implement Function\n",
    "    mean = 0\n",
    "    mu = 0.1\n",
    "    \n",
    "    # create random weights and biases\n",
    "    shape =[x_tensor.get_shape().as_list()[1], num_outputs]\n",
    "    w = tf.Variable(tf.truncated_normal(shape, mean=mean, stddev=mu), name='WO')\n",
    "    b = tf.Variable(tf.constant(0.1, shape=[num_outputs]), name='BO')\n",
    "    \n",
    "    # non-activated output of the neural network\n",
    "    return tf.add(tf.matmul(x_tensor, w), b)\n",
    "\n",
    "\"\"\"\n",
    "DON'T MODIFY ANYTHING IN THIS CELL THAT IS BELOW THIS LINE\n",
    "\"\"\"\n",
    "tests.test_output(output)"
   ]
  },
  {
   "cell_type": "markdown",
   "metadata": {},
   "source": [
    "### Create Convolutional Model\n",
    "Implement the function `conv_net` to create a convolutional neural network model. The function takes in a batch of images, `x`, and outputs logits.  Use the layers you created above to create this model:\n",
    "\n",
    "* Apply 1, 2, or 3 Convolution and Max Pool layers\n",
    "* Apply a Flatten Layer\n",
    "* Apply 1, 2, or 3 Fully Connected Layers\n",
    "* Apply an Output Layer\n",
    "* Return the output\n",
    "* Apply [TensorFlow's Dropout](https://www.tensorflow.org/api_docs/python/tf/nn/dropout) to one or more layers in the model using `keep_prob`. "
   ]
  },
  {
   "cell_type": "code",
   "execution_count": 12,
   "metadata": {
    "collapsed": false
   },
   "outputs": [
    {
     "name": "stdout",
     "output_type": "stream",
     "text": [
      "Neural Network Built!\n"
     ]
    }
   ],
   "source": [
    "def conv_net(x, keep_prob):\n",
    "    \"\"\"\n",
    "    Create a convolutional neural network model\n",
    "    : x: Placeholder tensor that holds image data.\n",
    "    : keep_prob: Placeholder tensor that hold dropout keep probability.\n",
    "    : return: Tensor that represents logits\n",
    "    \"\"\"\n",
    "    # TODO: Apply 1, 2, or 3 Convolution and Max Pool layers\n",
    "    #    Play around with different number of outputs, kernel size and stride\n",
    "    # Function Definition from Above:\n",
    "    #    conv2d_maxpool(x_tensor, conv_num_outputs, conv_ksize, conv_strides, pool_ksize, pool_strides)\n",
    "    \n",
    "# Layer 1: perform  1 x 1 convolution without max pooling\n",
    "    # Input = 32x32x3, Output= 32x32x16\n",
    "    filter_one_count = 16   # number of output filters in the layer\n",
    "    conv_ksize = (1,1)      # kernel size\n",
    "    conv_strides = (1,1)    # strides per kernel\n",
    "    pool_ksize = (1,1)      # max pool kernal size 1x1 with no reduction\n",
    "    pool_strides = (1,1)    # strides for the max pool\n",
    "    c1 = conv2d_maxpool(x, filter_one_count, conv_ksize, conv_strides, \\\n",
    "                        pool_ksize, pool_strides)\n",
    "    \n",
    "    # Layer 2: perform  3 x 3 convolution with 2x2 max pooling\n",
    "    # Input = 32x32x16, Output= 16x16x32\n",
    "    filter_two_count = 32\n",
    "    conv_ksize = (3,3)\n",
    "    pool_ksize = (2,2) \n",
    "    pool_strides = (2,2)\n",
    "    c2 = conv2d_maxpool(c1, filter_two_count, conv_ksize, conv_strides, \\\n",
    "                        pool_ksize, pool_strides)\n",
    "    \n",
    "    # Layer 3: perform  1 x 1 convolution without max pooling\n",
    "    # Input = 16x16x32, Output= 16x16x64\n",
    "    filter_three_count = 64\n",
    "    conv_ksize = (1,1)      \n",
    "    pool_ksize = (1,1)     \n",
    "    pool_strides = (1,1)\n",
    "    c3 = conv2d_maxpool(c2, filter_three_count, conv_ksize, conv_strides, \\\n",
    "                        pool_ksize, pool_strides)\n",
    "    \n",
    "    # Layer 4: perform  3 x 3 convolution with 2x2 max pooling\n",
    "    # Input = 16x16x64, Output= 8x8x64\n",
    "    conv_ksize = (3,3)\n",
    "    pool_ksize = (2,2) \n",
    "    pool_strides = (2,2)\n",
    "    c4 = conv2d_maxpool(c3, filter_three_count, conv_ksize, conv_strides, \\\n",
    "                        pool_ksize, pool_strides)\n",
    "\n",
    "    # TODO: Apply a Flatten Layer\n",
    "    # Function Definition from Above:\n",
    "    #   flatten(x_tensor)\n",
    "    final_input = flatten(c4)\n",
    "\n",
    "    # TODO: Apply 1, 2, or 3 Fully Connected Layers\n",
    "    #    Play around with different number of outputs\n",
    "    # Function Definition from Above:\n",
    "    #   fully_conn(x_tensor, num_outputs)    \n",
    "    # Layer 5: fully connected Input = 4096, Output = 4096 \n",
    "    node_size = final_input.get_shape().as_list()[1]\n",
    "    fc1 = fully_conn(final_input, node_size)\n",
    "    fc1 = tf.nn.dropout(fc1, keep_prob) # appy dropout to help prevent overfitting\n",
    "    \n",
    "    # Layer 6: fully connected Input = 4096, Output = 1024 \n",
    "    fc2 = fully_conn(fc1, node_size//4)\n",
    "    fc2 = tf.nn.dropout(fc2, keep_prob)\n",
    "    \n",
    "    # Layer 7: fully connected Input = 1024, Output = 256 \n",
    "    fc3 = fully_conn(fc2, node_size//16)\n",
    "    fc3 = tf.nn.dropout(fc3, keep_prob)\n",
    "    \n",
    "    # TODO: Apply an Output Layer\n",
    "    #    Set this to the number of classes\n",
    "    # Function Definition from Above:\n",
    "    #   output(x_tensor, num_outputs)\n",
    "    # Layer 8: final layer. Input = 256, Output = 10\n",
    "    num_outputs = 10\n",
    "    logits = output(fc3, num_outputs)\n",
    "    \n",
    "    # TODO: return output\n",
    "    return logits\n",
    "\n",
    "\n",
    "\"\"\"\n",
    "DON'T MODIFY ANYTHING IN THIS CELL THAT IS BELOW THIS LINE\n",
    "\"\"\"\n",
    "\n",
    "##############################\n",
    "## Build the Neural Network ##\n",
    "##############################\n",
    "\n",
    "# Remove previous weights, bias, inputs, etc..\n",
    "tf.reset_default_graph()\n",
    "\n",
    "# Inputs\n",
    "x = neural_net_image_input((32, 32, 3))\n",
    "y = neural_net_label_input(10)\n",
    "keep_prob = neural_net_keep_prob_input()\n",
    "\n",
    "# Model\n",
    "logits = conv_net(x, keep_prob)\n",
    "\n",
    "# Name logits Tensor, so that is can be loaded from disk after training\n",
    "logits = tf.identity(logits, name='logits')\n",
    "\n",
    "# Loss and Optimizer\n",
    "cost = tf.reduce_mean(tf.nn.softmax_cross_entropy_with_logits(logits=logits, labels=y))\n",
    "optimizer = tf.train.AdamOptimizer().minimize(cost)\n",
    "\n",
    "# Accuracy\n",
    "correct_pred = tf.equal(tf.argmax(logits, 1), tf.argmax(y, 1))\n",
    "accuracy = tf.reduce_mean(tf.cast(correct_pred, tf.float32), name='accuracy')\n",
    "\n",
    "tests.test_conv_net(conv_net)"
   ]
  },
  {
   "cell_type": "markdown",
   "metadata": {},
   "source": [
    "## Train the Neural Network\n",
    "### Single Optimization\n",
    "Implement the function `train_neural_network` to do a single optimization.  The optimization should use `optimizer` to optimize in `session` with a `feed_dict` of the following:\n",
    "* `x` for image input\n",
    "* `y` for labels\n",
    "* `keep_prob` for keep probability for dropout\n",
    "\n",
    "This function will be called for each batch, so `tf.global_variables_initializer()` has already been called.\n",
    "\n",
    "Note: Nothing needs to be returned. This function is only optimizing the neural network."
   ]
  },
  {
   "cell_type": "code",
   "execution_count": 13,
   "metadata": {
    "collapsed": false
   },
   "outputs": [
    {
     "name": "stdout",
     "output_type": "stream",
     "text": [
      "Tests Passed\n"
     ]
    }
   ],
   "source": [
    "def train_neural_network(session, optimizer, keep_probability, feature_batch, label_batch):\n",
    "    \"\"\"\n",
    "    Optimize the session on a batch of images and labels\n",
    "    : session: Current TensorFlow session\n",
    "    : optimizer: TensorFlow optimizer function\n",
    "    : keep_probability: keep probability\n",
    "    : feature_batch: Batch of Numpy image data\n",
    "    : label_batch: Batch of Numpy label data\n",
    "    \"\"\"\n",
    "    # TODO: Implement Function\n",
    "    session.run(optimizer, feed_dict={x: feature_batch, y: label_batch, keep_prob: keep_probability})\n",
    "\n",
    "\"\"\"\n",
    "DON'T MODIFY ANYTHING IN THIS CELL THAT IS BELOW THIS LINE\n",
    "\"\"\"\n",
    "tests.test_train_nn(train_neural_network)"
   ]
  },
  {
   "cell_type": "markdown",
   "metadata": {},
   "source": [
    "### Show Stats\n",
    "Implement the function `print_stats` to print loss and validation accuracy.  Use the global variables `valid_features` and `valid_labels` to calculate validation accuracy.  Use a keep probability of `1.0` to calculate the loss and validation accuracy."
   ]
  },
  {
   "cell_type": "code",
   "execution_count": 14,
   "metadata": {
    "collapsed": false
   },
   "outputs": [],
   "source": [
    "import sys\n",
    "\n",
    "def print_stats(session, feature_batch, label_batch, cost, accuracy):\n",
    "    \"\"\"\n",
    "    Print information about loss and validation accuracy\n",
    "    : session: Current TensorFlow session\n",
    "    : feature_batch: Batch of Numpy image data\n",
    "    : label_batch: Batch of Numpy label data\n",
    "    : cost: TensorFlow cost function\n",
    "    : accuracy: TensorFlow accuracy function\n",
    "    \"\"\"\n",
    "    # TODO: Implement Function\n",
    "    loss, acc = session.run([cost, accuracy], feed_dict={x: feature_batch, y: label_batch, keep_prob: 1})\n",
    "    \n",
    "    #sys.stdout.write(\"\\rAccuracy: {:.3f},  Loss: {}\".format(acc, loss))\n",
    "    print(\"Accuracy: {:.3f},  Loss: {}\".format(acc, loss))"
   ]
  },
  {
   "cell_type": "markdown",
   "metadata": {},
   "source": [
    "### Hyperparameters\n",
    "Tune the following parameters:\n",
    "* Set `epochs` to the number of iterations until the network stops learning or start overfitting\n",
    "* Set `batch_size` to the highest number that your machine has memory for.  Most people set them to common sizes of memory:\n",
    " * 64\n",
    " * 128\n",
    " * 256\n",
    " * ...\n",
    "* Set `keep_probability` to the probability of keeping a node using dropout"
   ]
  },
  {
   "cell_type": "code",
   "execution_count": 15,
   "metadata": {
    "collapsed": true
   },
   "outputs": [],
   "source": [
    "# TODO: Tune Parameters\n",
    "epochs = 30\n",
    "batch_size = 512\n",
    "keep_probability = 0.6"
   ]
  },
  {
   "cell_type": "markdown",
   "metadata": {},
   "source": [
    "### Train on a Single CIFAR-10 Batch\n",
    "Instead of training the neural network on all the CIFAR-10 batches of data, let's use a single batch. This should save time while you iterate on the model to get a better accuracy.  Once the final validation accuracy is 50% or greater, run the model on all the data in the next section."
   ]
  },
  {
   "cell_type": "code",
   "execution_count": 16,
   "metadata": {
    "collapsed": false
   },
   "outputs": [
    {
     "name": "stdout",
     "output_type": "stream",
     "text": [
      "Checking the Training on a Single Batch...\n",
      "Epoch  1, CIFAR-10 Batch 1:  Accuracy: 0.125,  Loss: 2.3004977703094482\n",
      "Epoch  2, CIFAR-10 Batch 1:  Accuracy: 0.098,  Loss: 2.301129102706909\n",
      "Epoch  3, CIFAR-10 Batch 1:  Accuracy: 0.149,  Loss: 2.2983486652374268\n",
      "Epoch  4, CIFAR-10 Batch 1:  Accuracy: 0.186,  Loss: 2.2571449279785156\n",
      "Epoch  5, CIFAR-10 Batch 1:  Accuracy: 0.247,  Loss: 2.1660993099212646\n",
      "Epoch  6, CIFAR-10 Batch 1:  Accuracy: 0.253,  Loss: 2.112175464630127\n",
      "Epoch  7, CIFAR-10 Batch 1:  Accuracy: 0.260,  Loss: 2.070672035217285\n",
      "Epoch  8, CIFAR-10 Batch 1:  Accuracy: 0.287,  Loss: 2.0065646171569824\n",
      "Epoch  9, CIFAR-10 Batch 1:  Accuracy: 0.274,  Loss: 1.9826565980911255\n",
      "Epoch 10, CIFAR-10 Batch 1:  Accuracy: 0.270,  Loss: 1.987731695175171\n",
      "Epoch 11, CIFAR-10 Batch 1:  Accuracy: 0.287,  Loss: 1.9437471628189087\n",
      "Epoch 12, CIFAR-10 Batch 1:  Accuracy: 0.311,  Loss: 1.8934781551361084\n",
      "Epoch 13, CIFAR-10 Batch 1:  Accuracy: 0.321,  Loss: 1.8764654397964478\n",
      "Epoch 14, CIFAR-10 Batch 1:  Accuracy: 0.328,  Loss: 1.8395986557006836\n",
      "Epoch 15, CIFAR-10 Batch 1:  Accuracy: 0.321,  Loss: 1.8363702297210693\n",
      "Epoch 16, CIFAR-10 Batch 1:  Accuracy: 0.361,  Loss: 1.8105247020721436\n",
      "Epoch 17, CIFAR-10 Batch 1:  Accuracy: 0.392,  Loss: 1.7848923206329346\n",
      "Epoch 18, CIFAR-10 Batch 1:  Accuracy: 0.368,  Loss: 1.7565548419952393\n",
      "Epoch 19, CIFAR-10 Batch 1:  Accuracy: 0.385,  Loss: 1.7348685264587402\n",
      "Epoch 20, CIFAR-10 Batch 1:  Accuracy: 0.429,  Loss: 1.687695026397705\n",
      "Epoch 21, CIFAR-10 Batch 1:  Accuracy: 0.429,  Loss: 1.6882200241088867\n",
      "Epoch 22, CIFAR-10 Batch 1:  Accuracy: 0.446,  Loss: 1.6211482286453247\n",
      "Epoch 23, CIFAR-10 Batch 1:  Accuracy: 0.459,  Loss: 1.6012706756591797\n",
      "Epoch 24, CIFAR-10 Batch 1:  Accuracy: 0.463,  Loss: 1.551493525505066\n",
      "Epoch 25, CIFAR-10 Batch 1:  Accuracy: 0.453,  Loss: 1.5174075365066528\n",
      "Epoch 26, CIFAR-10 Batch 1:  Accuracy: 0.486,  Loss: 1.5109355449676514\n",
      "Epoch 27, CIFAR-10 Batch 1:  Accuracy: 0.510,  Loss: 1.4421255588531494\n",
      "Epoch 28, CIFAR-10 Batch 1:  Accuracy: 0.514,  Loss: 1.387100100517273\n",
      "Epoch 29, CIFAR-10 Batch 1:  Accuracy: 0.574,  Loss: 1.345798373222351\n",
      "Epoch 30, CIFAR-10 Batch 1:  Accuracy: 0.541,  Loss: 1.3178160190582275\n"
     ]
    }
   ],
   "source": [
    "\"\"\"\n",
    "DON'T MODIFY ANYTHING IN THIS CELL\n",
    "\"\"\"\n",
    "print('Checking the Training on a Single Batch...')\n",
    "with tf.Session() as sess:\n",
    "    # Initializing the variables\n",
    "    sess.run(tf.global_variables_initializer())\n",
    "    \n",
    "    # Training cycle\n",
    "    for epoch in range(epochs):\n",
    "        batch_i = 1\n",
    "        for batch_features, batch_labels in helper.load_preprocess_training_batch(batch_i, batch_size):\n",
    "            train_neural_network(sess, optimizer, keep_probability, batch_features, batch_labels)\n",
    "        print('Epoch {:>2}, CIFAR-10 Batch {}:  '.format(epoch + 1, batch_i), end='')\n",
    "        print_stats(sess, batch_features, batch_labels, cost, accuracy)"
   ]
  },
  {
   "cell_type": "markdown",
   "metadata": {},
   "source": [
    "### Fully Train the Model\n",
    "Now that you got a good accuracy with a single CIFAR-10 batch, try it with all five batches."
   ]
  },
  {
   "cell_type": "code",
   "execution_count": 17,
   "metadata": {
    "collapsed": false
   },
   "outputs": [
    {
     "name": "stdout",
     "output_type": "stream",
     "text": [
      "Training...\n",
      "Epoch  1, CIFAR-10 Batch 1:  Accuracy: 0.111,  Loss: 2.3029391765594482\n",
      "Epoch  1, CIFAR-10 Batch 2:  Accuracy: 0.125,  Loss: 2.3017189502716064\n",
      "Epoch  1, CIFAR-10 Batch 3:  Accuracy: 0.108,  Loss: 2.302602529525757\n",
      "Epoch  1, CIFAR-10 Batch 4:  Accuracy: 0.139,  Loss: 2.29259991645813\n",
      "Epoch  1, CIFAR-10 Batch 5:  Accuracy: 0.169,  Loss: 2.2110421657562256\n",
      "Epoch  2, CIFAR-10 Batch 1:  Accuracy: 0.182,  Loss: 2.184546947479248\n",
      "Epoch  2, CIFAR-10 Batch 2:  Accuracy: 0.233,  Loss: 2.0873258113861084\n",
      "Epoch  2, CIFAR-10 Batch 3:  Accuracy: 0.264,  Loss: 2.027334451675415\n",
      "Epoch  2, CIFAR-10 Batch 4:  Accuracy: 0.277,  Loss: 1.9421292543411255\n",
      "Epoch  2, CIFAR-10 Batch 5:  Accuracy: 0.297,  Loss: 1.9404858350753784\n",
      "Epoch  3, CIFAR-10 Batch 1:  Accuracy: 0.328,  Loss: 1.9857667684555054\n",
      "Epoch  3, CIFAR-10 Batch 2:  Accuracy: 0.375,  Loss: 1.809783697128296\n",
      "Epoch  3, CIFAR-10 Batch 3:  Accuracy: 0.382,  Loss: 1.717095136642456\n",
      "Epoch  3, CIFAR-10 Batch 4:  Accuracy: 0.405,  Loss: 1.632447600364685\n",
      "Epoch  3, CIFAR-10 Batch 5:  Accuracy: 0.372,  Loss: 1.734951376914978\n",
      "Epoch  4, CIFAR-10 Batch 1:  Accuracy: 0.382,  Loss: 1.7572251558303833\n",
      "Epoch  4, CIFAR-10 Batch 2:  Accuracy: 0.443,  Loss: 1.6667054891586304\n",
      "Epoch  4, CIFAR-10 Batch 3:  Accuracy: 0.466,  Loss: 1.5283421277999878\n",
      "Epoch  4, CIFAR-10 Batch 4:  Accuracy: 0.459,  Loss: 1.4899170398712158\n",
      "Epoch  4, CIFAR-10 Batch 5:  Accuracy: 0.432,  Loss: 1.6205722093582153\n",
      "Epoch  5, CIFAR-10 Batch 1:  Accuracy: 0.409,  Loss: 1.6636861562728882\n",
      "Epoch  5, CIFAR-10 Batch 2:  Accuracy: 0.486,  Loss: 1.5098397731781006\n",
      "Epoch  5, CIFAR-10 Batch 3:  Accuracy: 0.507,  Loss: 1.367843747138977\n",
      "Epoch  5, CIFAR-10 Batch 4:  Accuracy: 0.517,  Loss: 1.3892077207565308\n",
      "Epoch  5, CIFAR-10 Batch 5:  Accuracy: 0.493,  Loss: 1.4473627805709839\n",
      "Epoch  6, CIFAR-10 Batch 1:  Accuracy: 0.443,  Loss: 1.5575617551803589\n",
      "Epoch  6, CIFAR-10 Batch 2:  Accuracy: 0.480,  Loss: 1.4458062648773193\n",
      "Epoch  6, CIFAR-10 Batch 3:  Accuracy: 0.524,  Loss: 1.294633150100708\n",
      "Epoch  6, CIFAR-10 Batch 4:  Accuracy: 0.514,  Loss: 1.3153156042099\n",
      "Epoch  6, CIFAR-10 Batch 5:  Accuracy: 0.520,  Loss: 1.3549745082855225\n",
      "Epoch  7, CIFAR-10 Batch 1:  Accuracy: 0.476,  Loss: 1.429631233215332\n",
      "Epoch  7, CIFAR-10 Batch 2:  Accuracy: 0.537,  Loss: 1.3147144317626953\n",
      "Epoch  7, CIFAR-10 Batch 3:  Accuracy: 0.554,  Loss: 1.164504051208496\n",
      "Epoch  7, CIFAR-10 Batch 4:  Accuracy: 0.557,  Loss: 1.2189245223999023\n",
      "Epoch  7, CIFAR-10 Batch 5:  Accuracy: 0.554,  Loss: 1.2692713737487793\n",
      "Epoch  8, CIFAR-10 Batch 1:  Accuracy: 0.503,  Loss: 1.390229344367981\n",
      "Epoch  8, CIFAR-10 Batch 2:  Accuracy: 0.551,  Loss: 1.2936205863952637\n",
      "Epoch  8, CIFAR-10 Batch 3:  Accuracy: 0.595,  Loss: 1.0912586450576782\n",
      "Epoch  8, CIFAR-10 Batch 4:  Accuracy: 0.611,  Loss: 1.1128959655761719\n",
      "Epoch  8, CIFAR-10 Batch 5:  Accuracy: 0.571,  Loss: 1.2060081958770752\n",
      "Epoch  9, CIFAR-10 Batch 1:  Accuracy: 0.547,  Loss: 1.2761536836624146\n",
      "Epoch  9, CIFAR-10 Batch 2:  Accuracy: 0.564,  Loss: 1.1775411367416382\n",
      "Epoch  9, CIFAR-10 Batch 3:  Accuracy: 0.615,  Loss: 1.0439574718475342\n",
      "Epoch  9, CIFAR-10 Batch 4:  Accuracy: 0.645,  Loss: 1.066652536392212\n",
      "Epoch  9, CIFAR-10 Batch 5:  Accuracy: 0.615,  Loss: 1.0974758863449097\n",
      "Epoch 10, CIFAR-10 Batch 1:  Accuracy: 0.578,  Loss: 1.1865788698196411\n",
      "Epoch 10, CIFAR-10 Batch 2:  Accuracy: 0.642,  Loss: 1.1028534173965454\n",
      "Epoch 10, CIFAR-10 Batch 3:  Accuracy: 0.642,  Loss: 1.0036377906799316\n",
      "Epoch 10, CIFAR-10 Batch 4:  Accuracy: 0.628,  Loss: 0.9879850149154663\n",
      "Epoch 10, CIFAR-10 Batch 5:  Accuracy: 0.655,  Loss: 1.0269882678985596\n",
      "Epoch 11, CIFAR-10 Batch 1:  Accuracy: 0.632,  Loss: 1.1082807779312134\n",
      "Epoch 11, CIFAR-10 Batch 2:  Accuracy: 0.672,  Loss: 1.026257872581482\n",
      "Epoch 11, CIFAR-10 Batch 3:  Accuracy: 0.662,  Loss: 0.9163672924041748\n",
      "Epoch 11, CIFAR-10 Batch 4:  Accuracy: 0.645,  Loss: 0.9594110250473022\n",
      "Epoch 11, CIFAR-10 Batch 5:  Accuracy: 0.686,  Loss: 0.9515822529792786\n",
      "Epoch 12, CIFAR-10 Batch 1:  Accuracy: 0.655,  Loss: 1.0401883125305176\n",
      "Epoch 12, CIFAR-10 Batch 2:  Accuracy: 0.682,  Loss: 0.9861074090003967\n",
      "Epoch 12, CIFAR-10 Batch 3:  Accuracy: 0.676,  Loss: 0.8726786375045776\n",
      "Epoch 12, CIFAR-10 Batch 4:  Accuracy: 0.696,  Loss: 0.9068592190742493\n",
      "Epoch 12, CIFAR-10 Batch 5:  Accuracy: 0.699,  Loss: 0.9023941159248352\n",
      "Epoch 13, CIFAR-10 Batch 1:  Accuracy: 0.666,  Loss: 0.9591612815856934\n",
      "Epoch 13, CIFAR-10 Batch 2:  Accuracy: 0.723,  Loss: 0.8666287660598755\n",
      "Epoch 13, CIFAR-10 Batch 3:  Accuracy: 0.733,  Loss: 0.7656314969062805\n",
      "Epoch 13, CIFAR-10 Batch 4:  Accuracy: 0.699,  Loss: 0.8406926393508911\n",
      "Epoch 13, CIFAR-10 Batch 5:  Accuracy: 0.716,  Loss: 0.8141199946403503\n",
      "Epoch 14, CIFAR-10 Batch 1:  Accuracy: 0.709,  Loss: 0.8633800745010376\n",
      "Epoch 14, CIFAR-10 Batch 2:  Accuracy: 0.747,  Loss: 0.7821463942527771\n",
      "Epoch 14, CIFAR-10 Batch 3:  Accuracy: 0.757,  Loss: 0.6859159469604492\n",
      "Epoch 14, CIFAR-10 Batch 4:  Accuracy: 0.777,  Loss: 0.6982389092445374\n",
      "Epoch 14, CIFAR-10 Batch 5:  Accuracy: 0.757,  Loss: 0.7211601734161377\n",
      "Epoch 15, CIFAR-10 Batch 1:  Accuracy: 0.750,  Loss: 0.7702848315238953\n",
      "Epoch 15, CIFAR-10 Batch 2:  Accuracy: 0.757,  Loss: 0.7487972974777222\n",
      "Epoch 15, CIFAR-10 Batch 3:  Accuracy: 0.780,  Loss: 0.6169252991676331\n",
      "Epoch 15, CIFAR-10 Batch 4:  Accuracy: 0.794,  Loss: 0.606147825717926\n",
      "Epoch 15, CIFAR-10 Batch 5:  Accuracy: 0.787,  Loss: 0.618409276008606\n",
      "Epoch 16, CIFAR-10 Batch 1:  Accuracy: 0.801,  Loss: 0.6275919079780579\n",
      "Epoch 16, CIFAR-10 Batch 2:  Accuracy: 0.794,  Loss: 0.6161280870437622\n",
      "Epoch 16, CIFAR-10 Batch 3:  Accuracy: 0.824,  Loss: 0.5033566355705261\n",
      "Epoch 16, CIFAR-10 Batch 4:  Accuracy: 0.851,  Loss: 0.5103059411048889\n",
      "Epoch 16, CIFAR-10 Batch 5:  Accuracy: 0.807,  Loss: 0.5480155944824219\n",
      "Epoch 17, CIFAR-10 Batch 1:  Accuracy: 0.807,  Loss: 0.5663649439811707\n",
      "Epoch 17, CIFAR-10 Batch 2:  Accuracy: 0.770,  Loss: 0.6600995659828186\n",
      "Epoch 17, CIFAR-10 Batch 3:  Accuracy: 0.861,  Loss: 0.44629499316215515\n",
      "Epoch 17, CIFAR-10 Batch 4:  Accuracy: 0.872,  Loss: 0.467420756816864\n",
      "Epoch 17, CIFAR-10 Batch 5:  Accuracy: 0.861,  Loss: 0.48208367824554443\n",
      "Epoch 18, CIFAR-10 Batch 1:  Accuracy: 0.848,  Loss: 0.4634864032268524\n",
      "Epoch 18, CIFAR-10 Batch 2:  Accuracy: 0.861,  Loss: 0.47427403926849365\n",
      "Epoch 18, CIFAR-10 Batch 3:  Accuracy: 0.868,  Loss: 0.4334498643875122\n",
      "Epoch 18, CIFAR-10 Batch 4:  Accuracy: 0.892,  Loss: 0.4158550798892975\n",
      "Epoch 18, CIFAR-10 Batch 5:  Accuracy: 0.865,  Loss: 0.4269353747367859\n",
      "Epoch 19, CIFAR-10 Batch 1:  Accuracy: 0.892,  Loss: 0.3796003758907318\n",
      "Epoch 19, CIFAR-10 Batch 2:  Accuracy: 0.848,  Loss: 0.4045354127883911\n",
      "Epoch 19, CIFAR-10 Batch 3:  Accuracy: 0.905,  Loss: 0.3563872277736664\n",
      "Epoch 19, CIFAR-10 Batch 4:  Accuracy: 0.885,  Loss: 0.3865834176540375\n",
      "Epoch 19, CIFAR-10 Batch 5:  Accuracy: 0.909,  Loss: 0.33853793144226074\n",
      "Epoch 20, CIFAR-10 Batch 1:  Accuracy: 0.912,  Loss: 0.3214925229549408\n",
      "Epoch 20, CIFAR-10 Batch 2:  Accuracy: 0.912,  Loss: 0.31517958641052246\n",
      "Epoch 20, CIFAR-10 Batch 3:  Accuracy: 0.929,  Loss: 0.2709744870662689\n",
      "Epoch 20, CIFAR-10 Batch 4:  Accuracy: 0.912,  Loss: 0.29411354660987854\n",
      "Epoch 20, CIFAR-10 Batch 5:  Accuracy: 0.956,  Loss: 0.267517626285553\n",
      "Epoch 21, CIFAR-10 Batch 1:  Accuracy: 0.926,  Loss: 0.275591105222702\n",
      "Epoch 21, CIFAR-10 Batch 2:  Accuracy: 0.919,  Loss: 0.27216702699661255\n",
      "Epoch 21, CIFAR-10 Batch 3:  Accuracy: 0.943,  Loss: 0.24457904696464539\n",
      "Epoch 21, CIFAR-10 Batch 4:  Accuracy: 0.936,  Loss: 0.22161294519901276\n",
      "Epoch 21, CIFAR-10 Batch 5:  Accuracy: 0.956,  Loss: 0.23880867660045624\n",
      "Epoch 22, CIFAR-10 Batch 1:  Accuracy: 0.932,  Loss: 0.2451879382133484\n",
      "Epoch 22, CIFAR-10 Batch 2:  Accuracy: 0.949,  Loss: 0.2349940836429596\n",
      "Epoch 22, CIFAR-10 Batch 3:  Accuracy: 0.953,  Loss: 0.2090761512517929\n",
      "Epoch 22, CIFAR-10 Batch 4:  Accuracy: 0.966,  Loss: 0.1824640929698944\n",
      "Epoch 22, CIFAR-10 Batch 5:  Accuracy: 0.956,  Loss: 0.1814747303724289\n",
      "Epoch 23, CIFAR-10 Batch 1:  Accuracy: 0.959,  Loss: 0.1958197057247162\n",
      "Epoch 23, CIFAR-10 Batch 2:  Accuracy: 0.946,  Loss: 0.20630790293216705\n",
      "Epoch 23, CIFAR-10 Batch 3:  Accuracy: 0.970,  Loss: 0.19261740148067474\n",
      "Epoch 23, CIFAR-10 Batch 4:  Accuracy: 0.980,  Loss: 0.15314912796020508\n",
      "Epoch 23, CIFAR-10 Batch 5:  Accuracy: 0.986,  Loss: 0.10494246333837509\n",
      "Epoch 24, CIFAR-10 Batch 1:  Accuracy: 0.963,  Loss: 0.17451779544353485\n",
      "Epoch 24, CIFAR-10 Batch 2:  Accuracy: 0.963,  Loss: 0.1282506138086319\n",
      "Epoch 24, CIFAR-10 Batch 3:  Accuracy: 0.963,  Loss: 0.18533176183700562\n",
      "Epoch 24, CIFAR-10 Batch 4:  Accuracy: 0.986,  Loss: 0.11287365108728409\n",
      "Epoch 24, CIFAR-10 Batch 5:  Accuracy: 0.963,  Loss: 0.13572098314762115\n",
      "Epoch 25, CIFAR-10 Batch 1:  Accuracy: 0.983,  Loss: 0.12157982587814331\n",
      "Epoch 25, CIFAR-10 Batch 2:  Accuracy: 0.976,  Loss: 0.1196984350681305\n",
      "Epoch 25, CIFAR-10 Batch 3:  Accuracy: 0.963,  Loss: 0.1221136823296547\n",
      "Epoch 25, CIFAR-10 Batch 4:  Accuracy: 0.986,  Loss: 0.11094816029071808\n",
      "Epoch 25, CIFAR-10 Batch 5:  Accuracy: 0.990,  Loss: 0.0663507878780365\n",
      "Epoch 26, CIFAR-10 Batch 1:  Accuracy: 0.990,  Loss: 0.0974651649594307\n",
      "Epoch 26, CIFAR-10 Batch 2:  Accuracy: 0.986,  Loss: 0.09466616809368134\n",
      "Epoch 26, CIFAR-10 Batch 3:  Accuracy: 0.990,  Loss: 0.08769575506448746\n",
      "Epoch 26, CIFAR-10 Batch 4:  Accuracy: 0.980,  Loss: 0.10061084479093552\n",
      "Epoch 26, CIFAR-10 Batch 5:  Accuracy: 0.983,  Loss: 0.062336649745702744\n",
      "Epoch 27, CIFAR-10 Batch 1:  Accuracy: 0.997,  Loss: 0.06948091834783554\n",
      "Epoch 27, CIFAR-10 Batch 2:  Accuracy: 0.990,  Loss: 0.07602038979530334\n",
      "Epoch 27, CIFAR-10 Batch 3:  Accuracy: 0.997,  Loss: 0.06070341169834137\n",
      "Epoch 27, CIFAR-10 Batch 4:  Accuracy: 0.990,  Loss: 0.06613251566886902\n",
      "Epoch 27, CIFAR-10 Batch 5:  Accuracy: 0.993,  Loss: 0.06840830296278\n",
      "Epoch 28, CIFAR-10 Batch 1:  Accuracy: 0.993,  Loss: 0.055538974702358246\n",
      "Epoch 28, CIFAR-10 Batch 2:  Accuracy: 0.997,  Loss: 0.055593620985746384\n",
      "Epoch 28, CIFAR-10 Batch 3:  Accuracy: 0.990,  Loss: 0.05774274840950966\n",
      "Epoch 28, CIFAR-10 Batch 4:  Accuracy: 0.990,  Loss: 0.07197650521993637\n",
      "Epoch 28, CIFAR-10 Batch 5:  Accuracy: 0.997,  Loss: 0.06412811577320099\n",
      "Epoch 29, CIFAR-10 Batch 1:  Accuracy: 0.993,  Loss: 0.042189549654722214\n",
      "Epoch 29, CIFAR-10 Batch 2:  Accuracy: 0.997,  Loss: 0.04922357574105263\n",
      "Epoch 29, CIFAR-10 Batch 3:  Accuracy: 1.000,  Loss: 0.03546734154224396\n",
      "Epoch 29, CIFAR-10 Batch 4:  Accuracy: 0.993,  Loss: 0.04599752277135849\n",
      "Epoch 29, CIFAR-10 Batch 5:  Accuracy: 0.993,  Loss: 0.041303686797618866\n",
      "Epoch 30, CIFAR-10 Batch 1:  Accuracy: 1.000,  Loss: 0.03553879261016846\n",
      "Epoch 30, CIFAR-10 Batch 2:  Accuracy: 0.997,  Loss: 0.03303571045398712\n",
      "Epoch 30, CIFAR-10 Batch 3:  Accuracy: 0.997,  Loss: 0.034439023584127426\n",
      "Epoch 30, CIFAR-10 Batch 4:  Accuracy: 1.000,  Loss: 0.03596039488911629\n",
      "Epoch 30, CIFAR-10 Batch 5:  Accuracy: 0.993,  Loss: 0.033915355801582336\n"
     ]
    }
   ],
   "source": [
    "\"\"\"\n",
    "DON'T MODIFY ANYTHING IN THIS CELL\n",
    "\"\"\"\n",
    "save_model_path = './image_classification'\n",
    "\n",
    "print('Training...')\n",
    "with tf.Session() as sess:\n",
    "    # Initializing the variables\n",
    "    sess.run(tf.global_variables_initializer())\n",
    "    \n",
    "    # Training cycle\n",
    "    for epoch in range(epochs):\n",
    "        # Loop over all batches\n",
    "        n_batches = 5\n",
    "        for batch_i in range(1, n_batches + 1):\n",
    "            for batch_features, batch_labels in helper.load_preprocess_training_batch(batch_i, batch_size):\n",
    "                train_neural_network(sess, optimizer, keep_probability, batch_features, batch_labels)\n",
    "            print('Epoch {:>2}, CIFAR-10 Batch {}:  '.format(epoch + 1, batch_i), end='')\n",
    "            print_stats(sess, batch_features, batch_labels, cost, accuracy)\n",
    "            \n",
    "    # Save Model\n",
    "    saver = tf.train.Saver()\n",
    "    save_path = saver.save(sess, save_model_path)"
   ]
  },
  {
   "cell_type": "markdown",
   "metadata": {},
   "source": [
    "# Checkpoint\n",
    "The model has been saved to disk.\n",
    "## Test Model\n",
    "Test your model against the test dataset.  This will be your final accuracy. You should have an accuracy greater than 50%. If you don't, keep tweaking the model architecture and parameters."
   ]
  },
  {
   "cell_type": "code",
   "execution_count": 18,
   "metadata": {
    "collapsed": false
   },
   "outputs": [
    {
     "name": "stdout",
     "output_type": "stream",
     "text": [
      "Testing Accuracy: 0.6516716480255127\n",
      "\n"
     ]
    },
    {
     "data": {
      "image/png": "[encoded data removed]",
      "text/plain": [
       "<matplotlib.figure.Figure at 0x13b52519eb8>"
      ]
     },
     "metadata": {
      "image/png": {
       "height": 319,
       "width": 355
      }
     },
     "output_type": "display_data"
    }
   ],
   "source": [
    "\"\"\"\n",
    "DON'T MODIFY ANYTHING IN THIS CELL\n",
    "\"\"\"\n",
    "%matplotlib inline\n",
    "%config InlineBackend.figure_format = 'retina'\n",
    "\n",
    "import tensorflow as tf\n",
    "import pickle\n",
    "import helper\n",
    "import random\n",
    "\n",
    "# Set batch size if not already set\n",
    "try:\n",
    "    if batch_size:\n",
    "        pass\n",
    "except NameError:\n",
    "    batch_size = 64\n",
    "\n",
    "save_model_path = './image_classification'\n",
    "n_samples = 4\n",
    "top_n_predictions = 3\n",
    "\n",
    "def test_model():\n",
    "    \"\"\"\n",
    "    Test the saved model against the test dataset\n",
    "    \"\"\"\n",
    "\n",
    "    test_features, test_labels = pickle.load(open('preprocess_training.p', mode='rb'))\n",
    "    loaded_graph = tf.Graph()\n",
    "\n",
    "    with tf.Session(graph=loaded_graph) as sess:\n",
    "        # Load model\n",
    "        loader = tf.train.import_meta_graph(save_model_path + '.meta')\n",
    "        loader.restore(sess, save_model_path)\n",
    "\n",
    "        # Get Tensors from loaded model\n",
    "        loaded_x = loaded_graph.get_tensor_by_name('x:0')\n",
    "        loaded_y = loaded_graph.get_tensor_by_name('y:0')\n",
    "        loaded_keep_prob = loaded_graph.get_tensor_by_name('keep_prob:0')\n",
    "        loaded_logits = loaded_graph.get_tensor_by_name('logits:0')\n",
    "        loaded_acc = loaded_graph.get_tensor_by_name('accuracy:0')\n",
    "        \n",
    "        # Get accuracy in batches for memory limitations\n",
    "        test_batch_acc_total = 0\n",
    "        test_batch_count = 0\n",
    "        \n",
    "        for train_feature_batch, train_label_batch in helper.batch_features_labels(test_features, test_labels, batch_size):\n",
    "            test_batch_acc_total += sess.run(\n",
    "                loaded_acc,\n",
    "                feed_dict={loaded_x: train_feature_batch, loaded_y: train_label_batch, loaded_keep_prob: 1.0})\n",
    "            test_batch_count += 1\n",
    "\n",
    "        print('Testing Accuracy: {}\\n'.format(test_batch_acc_total/test_batch_count))\n",
    "\n",
    "        # Print Random Samples\n",
    "        random_test_features, random_test_labels = tuple(zip(*random.sample(list(zip(test_features, test_labels)), n_samples)))\n",
    "        random_test_predictions = sess.run(\n",
    "            tf.nn.top_k(tf.nn.softmax(loaded_logits), top_n_predictions),\n",
    "            feed_dict={loaded_x: random_test_features, loaded_y: random_test_labels, loaded_keep_prob: 1.0})\n",
    "        helper.display_image_predictions(random_test_features, random_test_labels, random_test_predictions)\n",
    "\n",
    "\n",
    "test_model()"
   ]
  },
  {
   "cell_type": "markdown",
   "metadata": {},
   "source": [
    "## Why 50-70% Accuracy?\n",
    "You might be wondering why you can't get an accuracy any higher. First things first, 50% isn't bad for a simple CNN.  Pure guessing would get you 10% accuracy. However, you might notice people are getting scores [well above 70%](http://rodrigob.github.io/are_we_there_yet/build/classification_datasets_results.html#43494641522d3130).  That's because we haven't taught you all there is to know about neural networks. We still need to cover a few more techniques.\n",
    "## Submitting This Project\n",
    "When submitting this project, make sure to run all the cells before saving the notebook.  Save the notebook file as \"dlnd_image_classification.ipynb\" and save it as a HTML file under \"File\" -> \"Download as\".  Include the \"helper.py\" and \"problem_unittests.py\" files in your submission."
   ]
  }
 ],
 "metadata": {
  "kernelspec": {
   "display_name": "Python 3",
   "language": "python",
   "name": "python3"
  },
  "language_info": {
   "codemirror_mode": {
    "name": "ipython",
    "version": 3
   },
   "file_extension": ".py",
   "mimetype": "text/x-python",
   "name": "python",
   "nbconvert_exporter": "python",
   "pygments_lexer": "ipython3",
   "version": "3.5.2"
  }
 },
 "nbformat": 4,
 "nbformat_minor": 0
}
